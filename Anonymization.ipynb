{
 "cells": [
  {
   "cell_type": "markdown",
   "id": "fd6e2be5",
   "metadata": {},
   "source": [
    "# Anonymization de données Medicales"
   ]
  },
  {
   "cell_type": "markdown",
   "id": "e80f5abc",
   "metadata": {},
   "source": [
    "## 1. Analyse de données"
   ]
  },
  {
   "cell_type": "code",
   "execution_count": 208,
   "id": "e22966cc",
   "metadata": {},
   "outputs": [],
   "source": [
    "import pandas as pd\n",
    "import numpy as np\n",
    "import matplotlib.pyplot as plt\n",
    "import seaborn as sns\n",
    "\n",
    "df = pd.read_csv(\"./Copy of MedicalRecordsDataset.csv\")"
   ]
  },
  {
   "cell_type": "markdown",
   "id": "ef3ad57a",
   "metadata": {},
   "source": [
    "### 1.1. Vérification de données et compréhension des données"
   ]
  },
  {
   "cell_type": "code",
   "execution_count": 209,
   "id": "0d9649ae",
   "metadata": {},
   "outputs": [
    {
     "data": {
      "text/html": [
       "<div>\n",
       "<style scoped>\n",
       "    .dataframe tbody tr th:only-of-type {\n",
       "        vertical-align: middle;\n",
       "    }\n",
       "\n",
       "    .dataframe tbody tr th {\n",
       "        vertical-align: top;\n",
       "    }\n",
       "\n",
       "    .dataframe thead th {\n",
       "        text-align: right;\n",
       "    }\n",
       "</style>\n",
       "<table border=\"1\" class=\"dataframe\">\n",
       "  <thead>\n",
       "    <tr style=\"text-align: right;\">\n",
       "      <th></th>\n",
       "      <th>Name</th>\n",
       "      <th>Age</th>\n",
       "      <th>Sex</th>\n",
       "      <th>Zip_Code</th>\n",
       "      <th>Disease</th>\n",
       "      <th>Test_Date</th>\n",
       "      <th>Result</th>\n",
       "    </tr>\n",
       "  </thead>\n",
       "  <tbody>\n",
       "    <tr>\n",
       "      <th>0</th>\n",
       "      <td>Andrew Robinson</td>\n",
       "      <td>57</td>\n",
       "      <td>Male</td>\n",
       "      <td>64217</td>\n",
       "      <td>Hypertension</td>\n",
       "      <td>2021-10-31</td>\n",
       "      <td>Negative</td>\n",
       "    </tr>\n",
       "    <tr>\n",
       "      <th>1</th>\n",
       "      <td>Andrew Robinson</td>\n",
       "      <td>57</td>\n",
       "      <td>Male</td>\n",
       "      <td>64219</td>\n",
       "      <td>Asthma</td>\n",
       "      <td>2021-03-15</td>\n",
       "      <td>Positive</td>\n",
       "    </tr>\n",
       "    <tr>\n",
       "      <th>2</th>\n",
       "      <td>Andrew Robinson</td>\n",
       "      <td>57</td>\n",
       "      <td>Male</td>\n",
       "      <td>64221</td>\n",
       "      <td>COVID-19</td>\n",
       "      <td>2022-06-02</td>\n",
       "      <td>Positive</td>\n",
       "    </tr>\n",
       "    <tr>\n",
       "      <th>3</th>\n",
       "      <td>Andrew Robinson</td>\n",
       "      <td>57</td>\n",
       "      <td>Male</td>\n",
       "      <td>64221</td>\n",
       "      <td>Cancer</td>\n",
       "      <td>2023-01-23</td>\n",
       "      <td>Positive</td>\n",
       "    </tr>\n",
       "    <tr>\n",
       "      <th>4</th>\n",
       "      <td>Roy Rodriguez</td>\n",
       "      <td>79</td>\n",
       "      <td>Male</td>\n",
       "      <td>24012</td>\n",
       "      <td>Diabetes</td>\n",
       "      <td>2020-01-12</td>\n",
       "      <td>Positive</td>\n",
       "    </tr>\n",
       "    <tr>\n",
       "      <th>5</th>\n",
       "      <td>Roy Rodriguez</td>\n",
       "      <td>79</td>\n",
       "      <td>Male</td>\n",
       "      <td>24013</td>\n",
       "      <td>COVID-19</td>\n",
       "      <td>2020-03-06</td>\n",
       "      <td>Positive</td>\n",
       "    </tr>\n",
       "    <tr>\n",
       "      <th>6</th>\n",
       "      <td>Roy Rodriguez</td>\n",
       "      <td>79</td>\n",
       "      <td>Male</td>\n",
       "      <td>24011</td>\n",
       "      <td>Hypertension</td>\n",
       "      <td>2022-09-12</td>\n",
       "      <td>Negative</td>\n",
       "    </tr>\n",
       "    <tr>\n",
       "      <th>7</th>\n",
       "      <td>Roy Rodriguez</td>\n",
       "      <td>79</td>\n",
       "      <td>Male</td>\n",
       "      <td>24009</td>\n",
       "      <td>Cancer</td>\n",
       "      <td>2024-01-08</td>\n",
       "      <td>Positive</td>\n",
       "    </tr>\n",
       "    <tr>\n",
       "      <th>8</th>\n",
       "      <td>Roy Rodriguez</td>\n",
       "      <td>79</td>\n",
       "      <td>Male</td>\n",
       "      <td>24010</td>\n",
       "      <td>Cancer</td>\n",
       "      <td>2023-05-11</td>\n",
       "      <td>Negative</td>\n",
       "    </tr>\n",
       "    <tr>\n",
       "      <th>9</th>\n",
       "      <td>Daniel Cook</td>\n",
       "      <td>39</td>\n",
       "      <td>Male</td>\n",
       "      <td>19260</td>\n",
       "      <td>Cancer</td>\n",
       "      <td>2020-01-16</td>\n",
       "      <td>Positive</td>\n",
       "    </tr>\n",
       "  </tbody>\n",
       "</table>\n",
       "</div>"
      ],
      "text/plain": [
       "              Name  Age   Sex  Zip_Code       Disease   Test_Date    Result\n",
       "0  Andrew Robinson   57  Male     64217  Hypertension  2021-10-31  Negative\n",
       "1  Andrew Robinson   57  Male     64219        Asthma  2021-03-15  Positive\n",
       "2  Andrew Robinson   57  Male     64221      COVID-19  2022-06-02  Positive\n",
       "3  Andrew Robinson   57  Male     64221        Cancer  2023-01-23  Positive\n",
       "4    Roy Rodriguez   79  Male     24012      Diabetes  2020-01-12  Positive\n",
       "5    Roy Rodriguez   79  Male     24013      COVID-19  2020-03-06  Positive\n",
       "6    Roy Rodriguez   79  Male     24011  Hypertension  2022-09-12  Negative\n",
       "7    Roy Rodriguez   79  Male     24009        Cancer  2024-01-08  Positive\n",
       "8    Roy Rodriguez   79  Male     24010        Cancer  2023-05-11  Negative\n",
       "9      Daniel Cook   39  Male     19260        Cancer  2020-01-16  Positive"
      ]
     },
     "execution_count": 209,
     "metadata": {},
     "output_type": "execute_result"
    }
   ],
   "source": [
    "df.head(10)"
   ]
  },
  {
   "cell_type": "code",
   "execution_count": 210,
   "id": "7485fbd6",
   "metadata": {},
   "outputs": [
    {
     "name": "stdout",
     "output_type": "stream",
     "text": [
      "<class 'pandas.core.frame.DataFrame'>\n",
      "RangeIndex: 414 entries, 0 to 413\n",
      "Data columns (total 7 columns):\n",
      " #   Column     Non-Null Count  Dtype \n",
      "---  ------     --------------  ----- \n",
      " 0   Name       414 non-null    object\n",
      " 1   Age        414 non-null    int64 \n",
      " 2   Sex        414 non-null    object\n",
      " 3   Zip_Code   414 non-null    int64 \n",
      " 4   Disease    414 non-null    object\n",
      " 5   Test_Date  414 non-null    object\n",
      " 6   Result     414 non-null    object\n",
      "dtypes: int64(2), object(5)\n",
      "memory usage: 22.8+ KB\n"
     ]
    }
   ],
   "source": [
    "df.info()"
   ]
  },
  {
   "cell_type": "code",
   "execution_count": 211,
   "id": "bc0d9e29",
   "metadata": {},
   "outputs": [
    {
     "data": {
      "text/plain": [
       "Name         0\n",
       "Age          0\n",
       "Sex          0\n",
       "Zip_Code     0\n",
       "Disease      0\n",
       "Test_Date    0\n",
       "Result       0\n",
       "dtype: int64"
      ]
     },
     "execution_count": 211,
     "metadata": {},
     "output_type": "execute_result"
    }
   ],
   "source": [
    "df.isnull().sum()"
   ]
  },
  {
   "cell_type": "markdown",
   "id": "c00249a8",
   "metadata": {},
   "source": [
    "### 1.2. Obtention des informations importantes sur bases de données"
   ]
  },
  {
   "cell_type": "code",
   "execution_count": 212,
   "id": "307a99b1",
   "metadata": {},
   "outputs": [],
   "source": [
    "# quasi_cols1 = ['Age', 'Sex', 'Zip_Code']\n",
    "# quasi_cols2 = ['Age', 'Sex']\n",
    "# col = ['Name', 'Age', 'Sex', 'Zip_Code']"
   ]
  },
  {
   "cell_type": "code",
   "execution_count": 213,
   "id": "e5a31f2f",
   "metadata": {},
   "outputs": [],
   "source": [
    "# df[quasi_cols1].duplicated().value_counts()"
   ]
  },
  {
   "cell_type": "code",
   "execution_count": 214,
   "id": "4cf88bbd",
   "metadata": {},
   "outputs": [],
   "source": [
    "# df[quasi_cols2].duplicated().value_counts()"
   ]
  },
  {
   "cell_type": "code",
   "execution_count": 215,
   "id": "7344cb40",
   "metadata": {},
   "outputs": [],
   "source": [
    "# df[col].duplicated().value_counts()"
   ]
  },
  {
   "cell_type": "code",
   "execution_count": 216,
   "id": "ec08b961",
   "metadata": {},
   "outputs": [],
   "source": [
    "def uniqueness_analysis(df, column_groups):\n",
    "    results = []\n",
    "    for cols in column_groups:\n",
    "        dup_series = df[cols].duplicated(keep=False)\n",
    "        total = len(df)\n",
    "        unique = (~dup_series).sum()\n",
    "        label = \" + \".join(cols)\n",
    "        results.append({\n",
    "            'Combination': label,\n",
    "            'Unique Row Count': unique,\n",
    "            'Number of duplicate rows': total - unique,\n",
    "            'Unique ratio': unique / total\n",
    "        })\n",
    "    \n",
    "    result_df = pd.DataFrame(results)\n",
    "    \n",
    "    ax = result_df.set_index('Combination')[['Unique ratio']].plot(kind='barh', legend=False, figsize=(8,4), color='skyblue')\n",
    "    for i, v in enumerate(result_df['Unique ratio']):\n",
    "        ax.text(v + 0.01, i, f\"{v:.2%}\", va='center')\n",
    "    plt.title(\"Unique ratio of different combinations of identifiers\")\n",
    "    plt.xlabel(\"Unique ratio\")\n",
    "    plt.xlim(0, 1)\n",
    "    plt.tight_layout()\n",
    "    plt.show()\n",
    "    \n",
    "    return result_df\n"
   ]
  },
  {
   "cell_type": "code",
   "execution_count": 217,
   "id": "2726f262",
   "metadata": {},
   "outputs": [
    {
     "data": {
      "image/png": "[encoded data removed]",
      "text/plain": [
       "<Figure size 800x400 with 1 Axes>"
      ]
     },
     "metadata": {},
     "output_type": "display_data"
    },
    {
     "data": {
      "text/html": [
       "<div>\n",
       "<style scoped>\n",
       "    .dataframe tbody tr th:only-of-type {\n",
       "        vertical-align: middle;\n",
       "    }\n",
       "\n",
       "    .dataframe tbody tr th {\n",
       "        vertical-align: top;\n",
       "    }\n",
       "\n",
       "    .dataframe thead th {\n",
       "        text-align: right;\n",
       "    }\n",
       "</style>\n",
       "<table border=\"1\" class=\"dataframe\">\n",
       "  <thead>\n",
       "    <tr style=\"text-align: right;\">\n",
       "      <th></th>\n",
       "      <th>Combination</th>\n",
       "      <th>Unique Row Count</th>\n",
       "      <th>Number of duplicate rows</th>\n",
       "      <th>Unique ratio</th>\n",
       "    </tr>\n",
       "  </thead>\n",
       "  <tbody>\n",
       "    <tr>\n",
       "      <th>0</th>\n",
       "      <td>Age + Sex + Zip_Code</td>\n",
       "      <td>259</td>\n",
       "      <td>155</td>\n",
       "      <td>0.625604</td>\n",
       "    </tr>\n",
       "    <tr>\n",
       "      <th>1</th>\n",
       "      <td>Name + Sex + Age</td>\n",
       "      <td>0</td>\n",
       "      <td>414</td>\n",
       "      <td>0.000000</td>\n",
       "    </tr>\n",
       "    <tr>\n",
       "      <th>2</th>\n",
       "      <td>Age + Zip_Code</td>\n",
       "      <td>259</td>\n",
       "      <td>155</td>\n",
       "      <td>0.625604</td>\n",
       "    </tr>\n",
       "    <tr>\n",
       "      <th>3</th>\n",
       "      <td>Sex + Zip_Code</td>\n",
       "      <td>259</td>\n",
       "      <td>155</td>\n",
       "      <td>0.625604</td>\n",
       "    </tr>\n",
       "    <tr>\n",
       "      <th>4</th>\n",
       "      <td>Name + Age + Sex + Zip_Code</td>\n",
       "      <td>259</td>\n",
       "      <td>155</td>\n",
       "      <td>0.625604</td>\n",
       "    </tr>\n",
       "  </tbody>\n",
       "</table>\n",
       "</div>"
      ],
      "text/plain": [
       "                   Combination  Unique Row Count  Number of duplicate rows  \\\n",
       "0         Age + Sex + Zip_Code               259                       155   \n",
       "1             Name + Sex + Age                 0                       414   \n",
       "2               Age + Zip_Code               259                       155   \n",
       "3               Sex + Zip_Code               259                       155   \n",
       "4  Name + Age + Sex + Zip_Code               259                       155   \n",
       "\n",
       "   Unique ratio  \n",
       "0      0.625604  \n",
       "1      0.000000  \n",
       "2      0.625604  \n",
       "3      0.625604  \n",
       "4      0.625604  "
      ]
     },
     "execution_count": 217,
     "metadata": {},
     "output_type": "execute_result"
    }
   ],
   "source": [
    "col_groups = [\n",
    "    ['Age', 'Sex', 'Zip_Code'],\n",
    "    ['Name', 'Sex', 'Age'],\n",
    "    ['Age', 'Zip_Code'],\n",
    "    ['Sex', 'Zip_Code'],\n",
    "    ['Name', 'Age', 'Sex', 'Zip_Code']\n",
    "]\n",
    "\n",
    "uniqueness_analysis(df, col_groups)\n"
   ]
  },
  {
   "cell_type": "code",
   "execution_count": 218,
   "id": "474a9802",
   "metadata": {},
   "outputs": [],
   "source": [
    "def calculate_uniqueness_weights(df, columns):\n",
    "    total_rows = len(df)\n",
    "    weights = {}\n",
    "    for col in columns:\n",
    "        unique_count = df[col].nunique()\n",
    "        uniqueness_score = unique_count / total_rows\n",
    "        weights[col] = uniqueness_score\n",
    "    return pd.Series(weights).sort_values(ascending=False)\n"
   ]
  },
  {
   "cell_type": "code",
   "execution_count": 219,
   "id": "372b2e34",
   "metadata": {},
   "outputs": [
    {
     "data": {
      "text/plain": [
       "Test_Date    0.876812\n",
       "Zip_Code     0.801932\n",
       "Name         0.241546\n",
       "Age          0.123188\n",
       "Disease      0.014493\n",
       "dtype: float64"
      ]
     },
     "execution_count": 219,
     "metadata": {},
     "output_type": "execute_result"
    }
   ],
   "source": [
    "identifiers = ['Name','Age','Zip_Code', 'Disease', 'Test_Date']\n",
    "calculate_uniqueness_weights(df, identifiers)"
   ]
  },
  {
   "cell_type": "code",
   "execution_count": 220,
   "id": "2bac1d25",
   "metadata": {},
   "outputs": [
    {
     "data": {
      "image/png": "[encoded data removed]",
      "text/plain": [
       "<Figure size 640x480 with 1 Axes>"
      ]
     },
     "metadata": {},
     "output_type": "display_data"
    }
   ],
   "source": [
    "weights = calculate_uniqueness_weights(df, identifiers)\n",
    "sns.barplot(x=weights.values, y=weights.index)\n",
    "plt.title(\"Uniqueness score for each column\")\n",
    "plt.xlabel(\"Unique ratio\")\n",
    "plt.show()\n"
   ]
  },
  {
   "cell_type": "markdown",
   "id": "4c71023f",
   "metadata": {},
   "source": [
    "**Unique ratio est plus élevé, les attributs sont plus facile pour identifier les patients.**\n",
    "\n",
    "J'ai trouvé que Unique ratio d'Age et de Disease sont plus basses que les autres. C'est facile pour analyser leur distribution. Par ailleurs, pour attribut age, je pense qu'il y a plusieur façon pour l'anonymiser. On peut choisir le méthode spécifique pour le traiter via la distribution. "
   ]
  },
  {
   "cell_type": "code",
   "execution_count": 221,
   "id": "ea986800",
   "metadata": {},
   "outputs": [
    {
     "data": {
      "image/png": "[encoded data removed]",
      "text/plain": [
       "<Figure size 1000x600 with 1 Axes>"
      ]
     },
     "metadata": {},
     "output_type": "display_data"
    }
   ],
   "source": [
    "# Distribution of Age\n",
    "plt.figure(figsize=(10, 6))\n",
    "sns.histplot(df['Age'], bins=30, kde=True, color='skyblue')\n",
    "plt.title('Age Distribution')\n",
    "plt.xlabel('Age')\n",
    "\n",
    "plt.ylabel('Frequency')\n",
    "plt.show()"
   ]
  },
  {
   "cell_type": "code",
   "execution_count": 222,
   "id": "e5814340",
   "metadata": {},
   "outputs": [
    {
     "name": "stderr",
     "output_type": "stream",
     "text": [
      "C:\\Users\\30586\\AppData\\Local\\Temp\\ipykernel_9892\\1720527721.py:3: FutureWarning: \n",
      "\n",
      "Passing `palette` without assigning `hue` is deprecated and will be removed in v0.14.0. Assign the `x` variable to `hue` and set `legend=False` for the same effect.\n",
      "\n",
      "  sns.countplot(data=df, x='Disease', palette='viridis')\n"
     ]
    },
    {
     "data": {
      "image/png": "[encoded data removed]",
      "text/plain": [
       "<Figure size 1000x600 with 1 Axes>"
      ]
     },
     "metadata": {},
     "output_type": "display_data"
    }
   ],
   "source": [
    "## Distribution of disease\n",
    "plt.figure(figsize=(10, 6))\n",
    "sns.countplot(data=df, x='Disease', palette='viridis')\n",
    "plt.title('Disease Distribution')\n",
    "plt.xlabel('Disease')\n",
    "plt.ylabel('Frequency')\n",
    "plt.show()"
   ]
  },
  {
   "cell_type": "markdown",
   "id": "d1fae536",
   "metadata": {},
   "source": [
    "## 2. Anonymization de données"
   ]
  },
  {
   "cell_type": "code",
   "execution_count": 223,
   "id": "96b7ca71",
   "metadata": {},
   "outputs": [
    {
     "name": "stdout",
     "output_type": "stream",
     "text": [
      "<class 'pandas.core.frame.DataFrame'>\n",
      "RangeIndex: 414 entries, 0 to 413\n",
      "Data columns (total 7 columns):\n",
      " #   Column     Non-Null Count  Dtype \n",
      "---  ------     --------------  ----- \n",
      " 0   Name       414 non-null    object\n",
      " 1   Age        414 non-null    int64 \n",
      " 2   Sex        414 non-null    object\n",
      " 3   Zip_Code   414 non-null    int64 \n",
      " 4   Disease    414 non-null    object\n",
      " 5   Test_Date  414 non-null    object\n",
      " 6   Result     414 non-null    object\n",
      "dtypes: int64(2), object(5)\n",
      "memory usage: 22.8+ KB\n"
     ]
    }
   ],
   "source": [
    "df.info()"
   ]
  },
  {
   "cell_type": "markdown",
   "id": "962afc43",
   "metadata": {},
   "source": [
    "**Name:**: C'est identifier le plus important pour l'identification des patients, il sera remplacé par un identifiant aléatoire.(III. Techniques for Non-Numeric Columns) Ici je peux supprimer directement. Mais j'aimerais utiliser Tokenization pour l'anonymiser.\n",
    "\n",
    "**Sex**: C'est quais-identifier, mais je pense pas qu'il est obligatoire de l'anonymiser via l'analyse. Sinon je pense que l'on peut utiliser Binary pour remplacer le genre ou bien le supprimer.\n",
    "\n",
    "**Age:**: C'est quais-identifier(I. Techniques for Discrete Numbers) -> normalement, on n'a pas besoin de l'anonymiser, parce que dans les combinaison de quasi-identifier(Name + Sex + Age\t), Unique Row Count est 0. Mais ici quand même on l'anonymise pour pratiquer\n",
    "\n",
    "**Zip_Code:**: C'est quasi-identifier(I. Techniques for Discrete Numbers)\n",
    "\n",
    "**Test Date**: on peut identifier les patients via Test Date. Sur les données, le format de données sont YYYY-MM-DD, Je pense que l'on peut généraliser les dates pour les rendre anonymes.Mais les données sont pas beaucoup et aussi Unique_ratio est très élevé, donc je pense aque l'on peut ajouter les bruits pour les rendre anonymes.\n",
    "\n",
    "**Disease et Result** c'est infos sensibles.\n"
   ]
  },
  {
   "cell_type": "markdown",
   "id": "ddf44d67",
   "metadata": {},
   "source": [
    "### 2.1. Anonymisation de données(M1)"
   ]
  },
  {
   "cell_type": "markdown",
   "id": "f2800c92",
   "metadata": {},
   "source": [
    "#### 2.1.1. Pour les identifier \"Name\"\n",
    "\n",
    "Je utilise Pseudonymization, c'est possible de restaurer(faker),mais ici je donne pas le seed fixé, donc il ne peux pas être restauré"
   ]
  },
  {
   "cell_type": "code",
   "execution_count": 224,
   "id": "c0d2ab7b",
   "metadata": {},
   "outputs": [],
   "source": [
    "from faker import Faker"
   ]
  },
  {
   "cell_type": "code",
   "execution_count": 225,
   "id": "e9dd7bf2",
   "metadata": {},
   "outputs": [],
   "source": [
    "df_Anonymization_1 = df.copy()\n",
    "\n",
    "# df_Anonymization_1[['First_Name', 'Last_Name']] = df_Anonymization_1['Name'].str.split(\" \",1,expand=True)\n",
    "# df_Anonymization_1['Name_Token'] = df_Anonymization_1['First_Name'].str[0] + \". \" + df['Last_Name']\n",
    "faker = Faker()\n",
    "df_Anonymization_1['Fake_Name'] = [faker.name() for _ in range(len(df_Anonymization_1))]\n",
    "df_Anonymization_1.drop(columns=['Name'], inplace=True)\n",
    "df_Anonymization_1.insert(0, 'Name', df_Anonymization_1['Fake_Name'])\n",
    "df_Anonymization_1.drop(columns=['Fake_Name'], inplace=True)"
   ]
  },
  {
   "cell_type": "code",
   "execution_count": 226,
   "id": "870734ef",
   "metadata": {},
   "outputs": [
    {
     "data": {
      "text/html": [
       "<div>\n",
       "<style scoped>\n",
       "    .dataframe tbody tr th:only-of-type {\n",
       "        vertical-align: middle;\n",
       "    }\n",
       "\n",
       "    .dataframe tbody tr th {\n",
       "        vertical-align: top;\n",
       "    }\n",
       "\n",
       "    .dataframe thead th {\n",
       "        text-align: right;\n",
       "    }\n",
       "</style>\n",
       "<table border=\"1\" class=\"dataframe\">\n",
       "  <thead>\n",
       "    <tr style=\"text-align: right;\">\n",
       "      <th></th>\n",
       "      <th>Name</th>\n",
       "      <th>Age</th>\n",
       "      <th>Sex</th>\n",
       "      <th>Zip_Code</th>\n",
       "      <th>Disease</th>\n",
       "      <th>Test_Date</th>\n",
       "      <th>Result</th>\n",
       "    </tr>\n",
       "  </thead>\n",
       "  <tbody>\n",
       "    <tr>\n",
       "      <th>0</th>\n",
       "      <td>Andrew Robinson</td>\n",
       "      <td>57</td>\n",
       "      <td>Male</td>\n",
       "      <td>64217</td>\n",
       "      <td>Hypertension</td>\n",
       "      <td>2021-10-31</td>\n",
       "      <td>Negative</td>\n",
       "    </tr>\n",
       "    <tr>\n",
       "      <th>1</th>\n",
       "      <td>Andrew Robinson</td>\n",
       "      <td>57</td>\n",
       "      <td>Male</td>\n",
       "      <td>64219</td>\n",
       "      <td>Asthma</td>\n",
       "      <td>2021-03-15</td>\n",
       "      <td>Positive</td>\n",
       "    </tr>\n",
       "    <tr>\n",
       "      <th>2</th>\n",
       "      <td>Andrew Robinson</td>\n",
       "      <td>57</td>\n",
       "      <td>Male</td>\n",
       "      <td>64221</td>\n",
       "      <td>COVID-19</td>\n",
       "      <td>2022-06-02</td>\n",
       "      <td>Positive</td>\n",
       "    </tr>\n",
       "    <tr>\n",
       "      <th>3</th>\n",
       "      <td>Andrew Robinson</td>\n",
       "      <td>57</td>\n",
       "      <td>Male</td>\n",
       "      <td>64221</td>\n",
       "      <td>Cancer</td>\n",
       "      <td>2023-01-23</td>\n",
       "      <td>Positive</td>\n",
       "    </tr>\n",
       "    <tr>\n",
       "      <th>4</th>\n",
       "      <td>Roy Rodriguez</td>\n",
       "      <td>79</td>\n",
       "      <td>Male</td>\n",
       "      <td>24012</td>\n",
       "      <td>Diabetes</td>\n",
       "      <td>2020-01-12</td>\n",
       "      <td>Positive</td>\n",
       "    </tr>\n",
       "    <tr>\n",
       "      <th>...</th>\n",
       "      <td>...</td>\n",
       "      <td>...</td>\n",
       "      <td>...</td>\n",
       "      <td>...</td>\n",
       "      <td>...</td>\n",
       "      <td>...</td>\n",
       "      <td>...</td>\n",
       "    </tr>\n",
       "    <tr>\n",
       "      <th>409</th>\n",
       "      <td>Clarence Moss</td>\n",
       "      <td>59</td>\n",
       "      <td>Male</td>\n",
       "      <td>32221</td>\n",
       "      <td>Hypertension</td>\n",
       "      <td>2021-09-16</td>\n",
       "      <td>Negative</td>\n",
       "    </tr>\n",
       "    <tr>\n",
       "      <th>410</th>\n",
       "      <td>Clarence Moss</td>\n",
       "      <td>59</td>\n",
       "      <td>Male</td>\n",
       "      <td>32222</td>\n",
       "      <td>Cancer</td>\n",
       "      <td>2020-02-21</td>\n",
       "      <td>Positive</td>\n",
       "    </tr>\n",
       "    <tr>\n",
       "      <th>411</th>\n",
       "      <td>Kathy Arnold</td>\n",
       "      <td>41</td>\n",
       "      <td>Female</td>\n",
       "      <td>81231</td>\n",
       "      <td>Asthma</td>\n",
       "      <td>2022-05-11</td>\n",
       "      <td>Positive</td>\n",
       "    </tr>\n",
       "    <tr>\n",
       "      <th>412</th>\n",
       "      <td>Kathy Arnold</td>\n",
       "      <td>41</td>\n",
       "      <td>Female</td>\n",
       "      <td>81229</td>\n",
       "      <td>Cancer</td>\n",
       "      <td>2021-12-06</td>\n",
       "      <td>Positive</td>\n",
       "    </tr>\n",
       "    <tr>\n",
       "      <th>413</th>\n",
       "      <td>Kathy Arnold</td>\n",
       "      <td>41</td>\n",
       "      <td>Female</td>\n",
       "      <td>81227</td>\n",
       "      <td>Cancer</td>\n",
       "      <td>2020-04-10</td>\n",
       "      <td>Positive</td>\n",
       "    </tr>\n",
       "  </tbody>\n",
       "</table>\n",
       "<p>414 rows × 7 columns</p>\n",
       "</div>"
      ],
      "text/plain": [
       "                Name  Age     Sex  Zip_Code       Disease   Test_Date  \\\n",
       "0    Andrew Robinson   57    Male     64217  Hypertension  2021-10-31   \n",
       "1    Andrew Robinson   57    Male     64219        Asthma  2021-03-15   \n",
       "2    Andrew Robinson   57    Male     64221      COVID-19  2022-06-02   \n",
       "3    Andrew Robinson   57    Male     64221        Cancer  2023-01-23   \n",
       "4      Roy Rodriguez   79    Male     24012      Diabetes  2020-01-12   \n",
       "..               ...  ...     ...       ...           ...         ...   \n",
       "409    Clarence Moss   59    Male     32221  Hypertension  2021-09-16   \n",
       "410    Clarence Moss   59    Male     32222        Cancer  2020-02-21   \n",
       "411     Kathy Arnold   41  Female     81231        Asthma  2022-05-11   \n",
       "412     Kathy Arnold   41  Female     81229        Cancer  2021-12-06   \n",
       "413     Kathy Arnold   41  Female     81227        Cancer  2020-04-10   \n",
       "\n",
       "       Result  \n",
       "0    Negative  \n",
       "1    Positive  \n",
       "2    Positive  \n",
       "3    Positive  \n",
       "4    Positive  \n",
       "..        ...  \n",
       "409  Negative  \n",
       "410  Positive  \n",
       "411  Positive  \n",
       "412  Positive  \n",
       "413  Positive  \n",
       "\n",
       "[414 rows x 7 columns]"
      ]
     },
     "execution_count": 226,
     "metadata": {},
     "output_type": "execute_result"
    }
   ],
   "source": [
    "df"
   ]
  },
  {
   "cell_type": "code",
   "execution_count": 227,
   "id": "8361ae3f",
   "metadata": {},
   "outputs": [
    {
     "data": {
      "text/html": [
       "<div>\n",
       "<style scoped>\n",
       "    .dataframe tbody tr th:only-of-type {\n",
       "        vertical-align: middle;\n",
       "    }\n",
       "\n",
       "    .dataframe tbody tr th {\n",
       "        vertical-align: top;\n",
       "    }\n",
       "\n",
       "    .dataframe thead th {\n",
       "        text-align: right;\n",
       "    }\n",
       "</style>\n",
       "<table border=\"1\" class=\"dataframe\">\n",
       "  <thead>\n",
       "    <tr style=\"text-align: right;\">\n",
       "      <th></th>\n",
       "      <th>Name</th>\n",
       "      <th>Age</th>\n",
       "      <th>Sex</th>\n",
       "      <th>Zip_Code</th>\n",
       "      <th>Disease</th>\n",
       "      <th>Test_Date</th>\n",
       "      <th>Result</th>\n",
       "    </tr>\n",
       "  </thead>\n",
       "  <tbody>\n",
       "    <tr>\n",
       "      <th>0</th>\n",
       "      <td>Julie Ryan</td>\n",
       "      <td>57</td>\n",
       "      <td>Male</td>\n",
       "      <td>64217</td>\n",
       "      <td>Hypertension</td>\n",
       "      <td>2021-10-31</td>\n",
       "      <td>Negative</td>\n",
       "    </tr>\n",
       "    <tr>\n",
       "      <th>1</th>\n",
       "      <td>Susan Buchanan</td>\n",
       "      <td>57</td>\n",
       "      <td>Male</td>\n",
       "      <td>64219</td>\n",
       "      <td>Asthma</td>\n",
       "      <td>2021-03-15</td>\n",
       "      <td>Positive</td>\n",
       "    </tr>\n",
       "    <tr>\n",
       "      <th>2</th>\n",
       "      <td>Andrew Jones</td>\n",
       "      <td>57</td>\n",
       "      <td>Male</td>\n",
       "      <td>64221</td>\n",
       "      <td>COVID-19</td>\n",
       "      <td>2022-06-02</td>\n",
       "      <td>Positive</td>\n",
       "    </tr>\n",
       "    <tr>\n",
       "      <th>3</th>\n",
       "      <td>Carolyn King</td>\n",
       "      <td>57</td>\n",
       "      <td>Male</td>\n",
       "      <td>64221</td>\n",
       "      <td>Cancer</td>\n",
       "      <td>2023-01-23</td>\n",
       "      <td>Positive</td>\n",
       "    </tr>\n",
       "    <tr>\n",
       "      <th>4</th>\n",
       "      <td>Lori Morgan</td>\n",
       "      <td>79</td>\n",
       "      <td>Male</td>\n",
       "      <td>24012</td>\n",
       "      <td>Diabetes</td>\n",
       "      <td>2020-01-12</td>\n",
       "      <td>Positive</td>\n",
       "    </tr>\n",
       "    <tr>\n",
       "      <th>...</th>\n",
       "      <td>...</td>\n",
       "      <td>...</td>\n",
       "      <td>...</td>\n",
       "      <td>...</td>\n",
       "      <td>...</td>\n",
       "      <td>...</td>\n",
       "      <td>...</td>\n",
       "    </tr>\n",
       "    <tr>\n",
       "      <th>409</th>\n",
       "      <td>Sarah Smith</td>\n",
       "      <td>59</td>\n",
       "      <td>Male</td>\n",
       "      <td>32221</td>\n",
       "      <td>Hypertension</td>\n",
       "      <td>2021-09-16</td>\n",
       "      <td>Negative</td>\n",
       "    </tr>\n",
       "    <tr>\n",
       "      <th>410</th>\n",
       "      <td>Lance Burgess</td>\n",
       "      <td>59</td>\n",
       "      <td>Male</td>\n",
       "      <td>32222</td>\n",
       "      <td>Cancer</td>\n",
       "      <td>2020-02-21</td>\n",
       "      <td>Positive</td>\n",
       "    </tr>\n",
       "    <tr>\n",
       "      <th>411</th>\n",
       "      <td>Sandra Thomas</td>\n",
       "      <td>41</td>\n",
       "      <td>Female</td>\n",
       "      <td>81231</td>\n",
       "      <td>Asthma</td>\n",
       "      <td>2022-05-11</td>\n",
       "      <td>Positive</td>\n",
       "    </tr>\n",
       "    <tr>\n",
       "      <th>412</th>\n",
       "      <td>Sandra Parrish</td>\n",
       "      <td>41</td>\n",
       "      <td>Female</td>\n",
       "      <td>81229</td>\n",
       "      <td>Cancer</td>\n",
       "      <td>2021-12-06</td>\n",
       "      <td>Positive</td>\n",
       "    </tr>\n",
       "    <tr>\n",
       "      <th>413</th>\n",
       "      <td>Kristen Dawson</td>\n",
       "      <td>41</td>\n",
       "      <td>Female</td>\n",
       "      <td>81227</td>\n",
       "      <td>Cancer</td>\n",
       "      <td>2020-04-10</td>\n",
       "      <td>Positive</td>\n",
       "    </tr>\n",
       "  </tbody>\n",
       "</table>\n",
       "<p>414 rows × 7 columns</p>\n",
       "</div>"
      ],
      "text/plain": [
       "               Name  Age     Sex  Zip_Code       Disease   Test_Date    Result\n",
       "0        Julie Ryan   57    Male     64217  Hypertension  2021-10-31  Negative\n",
       "1    Susan Buchanan   57    Male     64219        Asthma  2021-03-15  Positive\n",
       "2      Andrew Jones   57    Male     64221      COVID-19  2022-06-02  Positive\n",
       "3      Carolyn King   57    Male     64221        Cancer  2023-01-23  Positive\n",
       "4       Lori Morgan   79    Male     24012      Diabetes  2020-01-12  Positive\n",
       "..              ...  ...     ...       ...           ...         ...       ...\n",
       "409     Sarah Smith   59    Male     32221  Hypertension  2021-09-16  Negative\n",
       "410   Lance Burgess   59    Male     32222        Cancer  2020-02-21  Positive\n",
       "411   Sandra Thomas   41  Female     81231        Asthma  2022-05-11  Positive\n",
       "412  Sandra Parrish   41  Female     81229        Cancer  2021-12-06  Positive\n",
       "413  Kristen Dawson   41  Female     81227        Cancer  2020-04-10  Positive\n",
       "\n",
       "[414 rows x 7 columns]"
      ]
     },
     "execution_count": 227,
     "metadata": {},
     "output_type": "execute_result"
    }
   ],
   "source": [
    "df_Anonymization_1"
   ]
  },
  {
   "cell_type": "markdown",
   "id": "852f5179",
   "metadata": {},
   "source": [
    "#### 2.1.2. Pour les quasi-identifier \"Age\""
   ]
  },
  {
   "cell_type": "code",
   "execution_count": 229,
   "id": "ff029e2e",
   "metadata": {},
   "outputs": [
    {
     "data": {
      "text/plain": [
       "20"
      ]
     },
     "execution_count": 229,
     "metadata": {},
     "output_type": "execute_result"
    }
   ],
   "source": [
    "df['Age'].min()"
   ]
  },
  {
   "cell_type": "code",
   "execution_count": null,
   "id": "0bf0124f",
   "metadata": {},
   "outputs": [
    {
     "data": {
      "text/plain": [
       "80"
      ]
     },
     "execution_count": 228,
     "metadata": {},
     "output_type": "execute_result"
    }
   ],
   "source": [
    "df['Age'].max()"
   ]
  },
  {
   "cell_type": "code",
   "execution_count": 230,
   "id": "b54ae3c6",
   "metadata": {},
   "outputs": [],
   "source": [
    "bins = [20, 30, 40, 50, 60, 70, 81]\n",
    "labels = ['20-30', '30-40', '40-50', '50-60', '60-70', '70-81']\n",
    "df_Anonymization_1['Age'] = pd.cut(df_Anonymization_1['Age'], bins=bins, labels=labels, right=False)"
   ]
  },
  {
   "cell_type": "code",
   "execution_count": 231,
   "id": "31aadcf6",
   "metadata": {},
   "outputs": [
    {
     "data": {
      "text/html": [
       "<div>\n",
       "<style scoped>\n",
       "    .dataframe tbody tr th:only-of-type {\n",
       "        vertical-align: middle;\n",
       "    }\n",
       "\n",
       "    .dataframe tbody tr th {\n",
       "        vertical-align: top;\n",
       "    }\n",
       "\n",
       "    .dataframe thead th {\n",
       "        text-align: right;\n",
       "    }\n",
       "</style>\n",
       "<table border=\"1\" class=\"dataframe\">\n",
       "  <thead>\n",
       "    <tr style=\"text-align: right;\">\n",
       "      <th></th>\n",
       "      <th>Name</th>\n",
       "      <th>Age</th>\n",
       "      <th>Sex</th>\n",
       "      <th>Zip_Code</th>\n",
       "      <th>Disease</th>\n",
       "      <th>Test_Date</th>\n",
       "      <th>Result</th>\n",
       "    </tr>\n",
       "  </thead>\n",
       "  <tbody>\n",
       "    <tr>\n",
       "      <th>0</th>\n",
       "      <td>Julie Ryan</td>\n",
       "      <td>50-60</td>\n",
       "      <td>Male</td>\n",
       "      <td>64217</td>\n",
       "      <td>Hypertension</td>\n",
       "      <td>2021-10-31</td>\n",
       "      <td>Negative</td>\n",
       "    </tr>\n",
       "    <tr>\n",
       "      <th>1</th>\n",
       "      <td>Susan Buchanan</td>\n",
       "      <td>50-60</td>\n",
       "      <td>Male</td>\n",
       "      <td>64219</td>\n",
       "      <td>Asthma</td>\n",
       "      <td>2021-03-15</td>\n",
       "      <td>Positive</td>\n",
       "    </tr>\n",
       "    <tr>\n",
       "      <th>2</th>\n",
       "      <td>Andrew Jones</td>\n",
       "      <td>50-60</td>\n",
       "      <td>Male</td>\n",
       "      <td>64221</td>\n",
       "      <td>COVID-19</td>\n",
       "      <td>2022-06-02</td>\n",
       "      <td>Positive</td>\n",
       "    </tr>\n",
       "    <tr>\n",
       "      <th>3</th>\n",
       "      <td>Carolyn King</td>\n",
       "      <td>50-60</td>\n",
       "      <td>Male</td>\n",
       "      <td>64221</td>\n",
       "      <td>Cancer</td>\n",
       "      <td>2023-01-23</td>\n",
       "      <td>Positive</td>\n",
       "    </tr>\n",
       "    <tr>\n",
       "      <th>4</th>\n",
       "      <td>Lori Morgan</td>\n",
       "      <td>70-81</td>\n",
       "      <td>Male</td>\n",
       "      <td>24012</td>\n",
       "      <td>Diabetes</td>\n",
       "      <td>2020-01-12</td>\n",
       "      <td>Positive</td>\n",
       "    </tr>\n",
       "    <tr>\n",
       "      <th>...</th>\n",
       "      <td>...</td>\n",
       "      <td>...</td>\n",
       "      <td>...</td>\n",
       "      <td>...</td>\n",
       "      <td>...</td>\n",
       "      <td>...</td>\n",
       "      <td>...</td>\n",
       "    </tr>\n",
       "    <tr>\n",
       "      <th>409</th>\n",
       "      <td>Sarah Smith</td>\n",
       "      <td>50-60</td>\n",
       "      <td>Male</td>\n",
       "      <td>32221</td>\n",
       "      <td>Hypertension</td>\n",
       "      <td>2021-09-16</td>\n",
       "      <td>Negative</td>\n",
       "    </tr>\n",
       "    <tr>\n",
       "      <th>410</th>\n",
       "      <td>Lance Burgess</td>\n",
       "      <td>50-60</td>\n",
       "      <td>Male</td>\n",
       "      <td>32222</td>\n",
       "      <td>Cancer</td>\n",
       "      <td>2020-02-21</td>\n",
       "      <td>Positive</td>\n",
       "    </tr>\n",
       "    <tr>\n",
       "      <th>411</th>\n",
       "      <td>Sandra Thomas</td>\n",
       "      <td>40-50</td>\n",
       "      <td>Female</td>\n",
       "      <td>81231</td>\n",
       "      <td>Asthma</td>\n",
       "      <td>2022-05-11</td>\n",
       "      <td>Positive</td>\n",
       "    </tr>\n",
       "    <tr>\n",
       "      <th>412</th>\n",
       "      <td>Sandra Parrish</td>\n",
       "      <td>40-50</td>\n",
       "      <td>Female</td>\n",
       "      <td>81229</td>\n",
       "      <td>Cancer</td>\n",
       "      <td>2021-12-06</td>\n",
       "      <td>Positive</td>\n",
       "    </tr>\n",
       "    <tr>\n",
       "      <th>413</th>\n",
       "      <td>Kristen Dawson</td>\n",
       "      <td>40-50</td>\n",
       "      <td>Female</td>\n",
       "      <td>81227</td>\n",
       "      <td>Cancer</td>\n",
       "      <td>2020-04-10</td>\n",
       "      <td>Positive</td>\n",
       "    </tr>\n",
       "  </tbody>\n",
       "</table>\n",
       "<p>414 rows × 7 columns</p>\n",
       "</div>"
      ],
      "text/plain": [
       "               Name    Age     Sex  Zip_Code       Disease   Test_Date  \\\n",
       "0        Julie Ryan  50-60    Male     64217  Hypertension  2021-10-31   \n",
       "1    Susan Buchanan  50-60    Male     64219        Asthma  2021-03-15   \n",
       "2      Andrew Jones  50-60    Male     64221      COVID-19  2022-06-02   \n",
       "3      Carolyn King  50-60    Male     64221        Cancer  2023-01-23   \n",
       "4       Lori Morgan  70-81    Male     24012      Diabetes  2020-01-12   \n",
       "..              ...    ...     ...       ...           ...         ...   \n",
       "409     Sarah Smith  50-60    Male     32221  Hypertension  2021-09-16   \n",
       "410   Lance Burgess  50-60    Male     32222        Cancer  2020-02-21   \n",
       "411   Sandra Thomas  40-50  Female     81231        Asthma  2022-05-11   \n",
       "412  Sandra Parrish  40-50  Female     81229        Cancer  2021-12-06   \n",
       "413  Kristen Dawson  40-50  Female     81227        Cancer  2020-04-10   \n",
       "\n",
       "       Result  \n",
       "0    Negative  \n",
       "1    Positive  \n",
       "2    Positive  \n",
       "3    Positive  \n",
       "4    Positive  \n",
       "..        ...  \n",
       "409  Negative  \n",
       "410  Positive  \n",
       "411  Positive  \n",
       "412  Positive  \n",
       "413  Positive  \n",
       "\n",
       "[414 rows x 7 columns]"
      ]
     },
     "execution_count": 231,
     "metadata": {},
     "output_type": "execute_result"
    }
   ],
   "source": [
    "df_Anonymization_1"
   ]
  },
  {
   "cell_type": "markdown",
   "id": "87771345",
   "metadata": {},
   "source": [
    "#### 2.1.3. Pour les quasi-identifier \"Zip_Code\""
   ]
  },
  {
   "cell_type": "code",
   "execution_count": null,
   "id": "c3adc2c4",
   "metadata": {},
   "outputs": [],
   "source": []
  }
 ],
 "metadata": {
  "kernelspec": {
   "display_name": "Python 3",
   "language": "python",
   "name": "python3"
  },
  "language_info": {
   "codemirror_mode": {
    "name": "ipython",
    "version": 3
   },
   "file_extension": ".py",
   "mimetype": "text/x-python",
   "name": "python",
   "nbconvert_exporter": "python",
   "pygments_lexer": "ipython3",
   "version": "3.11.2"
  }
 },
 "nbformat": 4,
 "nbformat_minor": 5
}
